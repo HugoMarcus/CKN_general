{
 "cells": [
  {
   "cell_type": "code",
   "execution_count": 5,
   "metadata": {},
   "outputs": [],
   "source": [
    "import numpy as np\n",
    "from scipy.optimize import fsolve\n",
    "import math"
   ]
  },
  {
   "cell_type": "code",
   "execution_count": 7,
   "metadata": {},
   "outputs": [
    {
     "ename": "SyntaxError",
     "evalue": "invalid syntax (<ipython-input-7-0aeac44a58d2>, line 6)",
     "output_type": "error",
     "traceback": [
      "\u001b[1;36m  File \u001b[1;32m\"<ipython-input-7-0aeac44a58d2>\"\u001b[1;36m, line \u001b[1;32m6\u001b[0m\n\u001b[1;33m    return [zero]\u001b[0m\n\u001b[1;37m         ^\u001b[0m\n\u001b[1;31mSyntaxError\u001b[0m\u001b[1;31m:\u001b[0m invalid syntax\n"
     ]
    }
   ],
   "source": [
    "n=0.3136\n",
    "\n",
    "\n",
    "def sol(phi):\n",
    "    zero= -n*phi**2+3*(phi* (1/math.tanh(phi)-1)\n",
    "    return zero\n",
    "                       \n",
    "root = fsolve(sol, 1)"
   ]
  },
  {
   "cell_type": "code",
   "execution_count": 13,
   "metadata": {},
   "outputs": [
    {
     "name": "stdout",
     "output_type": "stream",
     "text": [
      "Root found at: [8.43177012]\n"
     ]
    }
   ],
   "source": [
    "from scipy.optimize import fsolve\n",
    "import math\n",
    "\n",
    "n = 0.3136\n",
    "\n",
    "def sol(phi):\n",
    "    zero = -n * phi**2 + 3 * (phi * (1 / math.tanh(phi)) - 1)\n",
    "    return zero\n",
    "                 \n",
    "root = fsolve(sol, 10)\n",
    "print(\"Root found at:\", root)"
   ]
  },
  {
   "cell_type": "code",
   "execution_count": null,
   "metadata": {},
   "outputs": [],
   "source": []
  }
 ],
 "metadata": {
  "kernelspec": {
   "display_name": "Python 3",
   "language": "python",
   "name": "python3"
  },
  "language_info": {
   "codemirror_mode": {
    "name": "ipython",
    "version": 3
   },
   "file_extension": ".py",
   "mimetype": "text/x-python",
   "name": "python",
   "nbconvert_exporter": "python",
   "pygments_lexer": "ipython3",
   "version": "3.7.6"
  }
 },
 "nbformat": 4,
 "nbformat_minor": 4
}
