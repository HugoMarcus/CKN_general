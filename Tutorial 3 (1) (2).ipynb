{
 "cells": [
  {
   "cell_type": "markdown",
   "id": "3ab1748a",
   "metadata": {
    "id": "mmOf2cv4quEC"
   },
   "source": [
    "# 1\n",
    "At 500K the initial rate of a certain reaction occurring in a batch reactor is ten times the initial rate at 400K. Will the rate ratio of 10:1 stay constant as the composition changes in the reactor? What is the activation energy of this reaction? [38.29 kJ/mol]"
   ]
  },
  {
   "cell_type": "markdown",
   "id": "959c1d4b",
   "metadata": {
    "id": "l2IwdPkSquEL"
   },
   "source": [
    "# 2\n",
    "\n",
    "The following reaction was studied in a laboratory batch reactor:\n",
    "$$A\\to2B$$\n",
    "The initial concentration of A was 2 mol/l and the initial concentration of B was 1 mol/l (for all the experiments). You can assume that the volume of the reaction does not change. Three reactor runs were performed at temperatures of 25°C, 35°C and 45°C (temperature stayed constant throughout the run). The following results were obtained:\n",
    "\n",
    "|Time (minutes)|Conc of B (mol/l) 25°C|Conc of B (mol/l) 35°C|Conc of B (mol/l) 45°C|\n",
    "|---|---|---|---|\n",
    "|0.00|1.00|1.00|1.00|\n",
    "|1.00|1.85|2.20|2.61|\n",
    "|2.00|2.53|3.04|3.57|\n",
    "|3.00|3.05|3.63|4.15|\n",
    "|4.00|3.47|4.04|4.49|\n",
    "|6.00|4.05|4.53|4.82|\n",
    "|10.00|4.64|4.89|4.98|\n",
    "|200|5|5|5|\n",
    "\n",
    "Is the reaction reversible or not? How long will it take to achieve a 50% conversion of A, if the same reactor is operated at 75°C and when we start with 4 mol/l of A and no B. [0.5 min, E=30kJ/mol]"
   ]
  },
  {
   "cell_type": "code",
   "execution_count": 1,
   "id": "5e6398a2",
   "metadata": {},
   "outputs": [
    {
     "name": "stdout",
     "output_type": "stream",
     "text": [
      "[  0.   1.   2.   3.   4.   6.  10. 200.]\n"
     ]
    }
   ],
   "source": [
    "import numpy as np\n",
    "from scipy.integrate import solve_ivp\n",
    "import matplotlib.pyplot as plt\n",
    "import pandas as pd\n",
    "from io import StringIO\n",
    "from scipy.optimize import fsolve as fsolve\n",
    "\n",
    "\n",
    "\n",
    "markdown_table = \"\"\"|---|---|---|---|\n",
    "|0.00|1.00|1.00|1.00|\n",
    "|1.00|1.85|2.20|2.61|\n",
    "|2.00|2.53|3.04|3.57|\n",
    "|3.00|3.05|3.63|4.15|\n",
    "|4.00|3.47|4.04|4.49|\n",
    "|6.00|4.05|4.53|4.82|\n",
    "|10.00|4.64|4.89|4.98|\n",
    "|200|5|5|5|\"\"\"\n",
    "\n",
    "\n",
    "# Read the Markdown table into a DataFrame\n",
    "df = pd.read_csv(StringIO(markdown_table), sep='|', header=None)\n",
    "df = df.drop(0, axis=0)\n",
    "\n",
    "# Convert the columns to arrays\n",
    "column1_array = df[1].astype(float).values\n",
    "column2_array = df[2].astype(float).values\n",
    "column1_array = np.array(column1_array)\n",
    "column2_array = np.array(column2_array)\n",
    "\n",
    "column3_array = df[3].astype(float).values\n",
    "column4_array = df[4].astype(float).values\n",
    "column3_array = np.array(column3_array)\n",
    "column4_array = np.array(column4_array)\n",
    "\n",
    "print(column1_array)\n"
   ]
  },
  {
   "cell_type": "code",
   "execution_count": 4,
   "id": "c69820c6",
   "metadata": {},
   "outputs": [
    {
     "name": "stdout",
     "output_type": "stream",
     "text": [
      "  message: 'The solver successfully reached the end of the integration interval.'\n",
      "     nfev: 110\n",
      "     njev: 0\n",
      "      nlu: 0\n",
      "      sol: <scipy.integrate._ivp.common.OdeSolution object at 0x000001C8493FDF40>\n",
      "   status: 0\n",
      "  success: True\n",
      "        t: array([ 0.        ,  0.07228835,  0.6764533 ,  1.34134323,  2.04627538,\n",
      "        2.75690094,  3.46904204,  4.18288812,  4.90072845,  5.62836326,\n",
      "        6.3789985 ,  7.17893042,  8.07127236,  9.11570329, 10.39339522,\n",
      "       12.02730963, 14.21768857, 17.18652185, 20.        ])\n",
      " t_events: [array([0.52554029])]\n",
      "        y: array([[2.00000000e+00, 1.81813627e+00, 8.19768821e-01, 3.41254175e-01,\n",
      "        1.34784068e-01, 5.28393111e-02, 2.06734474e-02, 8.07045575e-03,\n",
      "        3.13407776e-03, 1.20156944e-03, 4.47008258e-04, 1.55935265e-04,\n",
      "        4.82665982e-05, 1.23424970e-05, 2.44497428e-06, 4.33417378e-07,\n",
      "        1.99216659e-07, 5.72660946e-07, 1.17137240e-06],\n",
      "       [1.00000000e+00, 1.36372746e+00, 3.36046236e+00, 4.31749165e+00,\n",
      "        4.73043186e+00, 4.89432138e+00, 4.95865311e+00, 4.98385909e+00,\n",
      "        4.99373184e+00, 4.99759686e+00, 4.99910598e+00, 4.99968813e+00,\n",
      "        4.99990347e+00, 4.99997532e+00, 4.99999511e+00, 4.99999913e+00,\n",
      "        4.99999960e+00, 4.99999885e+00, 4.99999766e+00]])\n",
      " y_events: [array([[1., 3.]])]\n"
     ]
    },
    {
     "data": {
      "image/png": "[encoded data removed]",
      "text/plain": [
       "<Figure size 640x480 with 1 Axes>"
      ]
     },
     "metadata": {},
     "output_type": "display_data"
    }
   ],
   "source": [
    "    \n",
    "def batch(k):    \n",
    "    \n",
    "    t = 20\n",
    "    \n",
    "    t_span = np.linspace(0,t,100)\n",
    "    \n",
    "    V = 1\n",
    "    \n",
    "    initial_conditions = [2,1]\n",
    "    \n",
    " \n",
    "    m = 1\n",
    "  \n",
    "    \n",
    "    def rates(t,y):\n",
    "        \n",
    "        NA,NB= y[0],y[1]\n",
    "        CA,CB = NA/V , NB/V \n",
    "        \n",
    "        rA = -k*(CA**m)\n",
    "        rB = -2*rA\n",
    "\n",
    "        \n",
    "        dNA = rA*V\n",
    "        dNB = rB*V\n",
    "     \n",
    "        return dNA,dNB\n",
    "    \n",
    "    \n",
    "    def event(t,y):\n",
    "        \n",
    "        return y[0] - 1\n",
    "    \n",
    "\n",
    "    \n",
    "    solution = solve_ivp(rates,(0,t), initial_conditions,dense_output = True, events = event)\n",
    "    \n",
    "    sol = solution.sol(t_span)\n",
    "    \n",
    "    plt.plot(t_span,sol[1])\n",
    "    plt.plot(column1_array[:-1],column4_array[:-1],'o')\n",
    "    \n",
    "    return solution\n",
    "\n",
    "print(batch(k4))"
   ]
  },
  {
   "cell_type": "code",
   "execution_count": 13,
   "id": "7fee93d0",
   "metadata": {},
   "outputs": [
    {
     "name": "stdout",
     "output_type": "stream",
     "text": [
      "38651.930250663085 29771.91073818913\n",
      "1.31881870991862\n"
     ]
    }
   ],
   "source": [
    "k1 = 0.235\n",
    "k2 = 0.35\n",
    "k3 = 0.5\n",
    "\n",
    "T1 = 25 + 273.15\n",
    "T2 = 35 + 273.15\n",
    "T3 = 45 + 273.15\n",
    "T4 = 75 + 273.15\n",
    "R = 8.314\n",
    "\n",
    "def find(var):\n",
    "    \n",
    "    ko , E = var[0],var[1]\n",
    "    \n",
    "    eq1 = ko*np.exp(-E/(R*T1)) - k1\n",
    "    eq2 = ko*np.exp(-E/(R*T3)) - k3\n",
    "    \n",
    "    return eq1,eq2\n",
    "\n",
    "ko, E = fsolve(find,[2,0.5])\n",
    "\n",
    "print(ko,E)\n",
    "\n",
    "k4 = ko*np.exp(-E/(R*T4))\n",
    "print(k4)"
   ]
  },
  {
   "cell_type": "code",
   "execution_count": 16,
   "id": "940762ad",
   "metadata": {},
   "outputs": [
    {
     "data": {
      "image/png": "[encoded data removed]",
      "text/plain": [
       "<Figure size 640x480 with 1 Axes>"
      ]
     },
     "metadata": {},
     "output_type": "display_data"
    },
    {
     "name": "stdout",
     "output_type": "stream",
     "text": [
      "E = 29.77923230775015\n",
      "ko = 38873.716090619375\n"
     ]
    }
   ],
   "source": [
    "import numpy as np\n",
    "import matplotlib.pyplot as plt\n",
    "\n",
    "\n",
    "x = np.array([1/T1, 1/T2, 1/T3])\n",
    "y = np.array([np.log(k1),np.log(k2),np.log(k3)])\n",
    "\n",
    "slope, intercept = np.polyfit(x, y, 1)\n",
    "\n",
    "def linear_function(x):\n",
    "    return slope * x + intercept\n",
    "\n",
    "\n",
    "x_range = np.linspace(min(x), max(x), 100)\n",
    "\n",
    "y_line = linear_function(x_range)\n",
    "\n",
    "\n",
    "plt.scatter(x, y, label=\"Data Points\")\n",
    "plt.plot(x_range, y_line, color='red', label=\"Fitted Line\")\n",
    "plt.xlabel('X')\n",
    "plt.ylabel('Y')\n",
    "plt.legend()\n",
    "plt.grid()\n",
    "plt.show()\n",
    "\n",
    "E = -slope*R/1000\n",
    "ko = np.exp(intercept)\n",
    "\n",
    "print(f'E = {E}')\n",
    "print(f'ko = {ko}')\n"
   ]
  },
  {
   "cell_type": "markdown",
   "id": "6c79c074",
   "metadata": {
    "id": "FKE7SvcmmYBJ"
   },
   "source": [
    "# 3\n",
    "\n",
    "The aqueous reaction $ A \\to R + S $ proceeds as follows:\n",
    "\n",
    "|Time, min|0|36|65|100|160|$\\infty$|\n",
    "|---|---|---|---|---|---|---|\n",
    "|$C_A$, mol/L|0.1823|0.1453|0.1216|0.1025|0.0795|0.0494|\n",
    "\n",
    "with\n",
    "\n",
    "$C_{A0}$ = 0.1823 mol/l,\n",
    "\n",
    "$C_{R0}$ = 0,\n",
    "\n",
    "$C_{S0}$ = 55 mol/l.\n",
    "\n",
    "Find the rate equation for this reaction. [$-r_A = 6.76\\times 10^{-3}$ $CA - 4.54\\times 10^{-5} C_RC_S$]\n",
    "\n",
    "\n"
   ]
  },
  {
   "cell_type": "code",
   "execution_count": null,
   "id": "9bbd7e61",
   "metadata": {},
   "outputs": [],
   "source": [
    "   \n",
    "def batch(k1,k2):  \n",
    "    \n",
    "    data_CA = [0.1823,0.1453,0.1216,0.1025,0.0795]\n",
    "    data_t = [0,36,65,100,160] \n",
    "    \n",
    "    \n",
    "    t = 160\n",
    "    \n",
    "    t_span = np.linspace(0,t,10)\n",
    "    \n",
    "    V = 1\n",
    "    \n",
    "    initial_conditions = [0.1823,0,55]\n",
    "    \n",
    " \n",
    "    def rates(t,y):\n",
    "        \n",
    "        NA,NB,NC= y[0],y[1],y[2]\n",
    "        CA,CB,CC = NA/V , NB/V , NC/V\n",
    "        \n",
    "        rA = -k1*CA + k2*CB*CC\n",
    "        rB = -rA\n",
    "        rC = -rA\n",
    "\n",
    "        \n",
    "        dNA = rA*V\n",
    "        dNB = rB*V\n",
    "        dNC = rC*V\n",
    "     \n",
    "        return dNA,dNB,dNC\n",
    "    \n",
    "    \n",
    "   \n",
    "\n",
    "    \n",
    "    solution = solve_ivp(rates,(0,t), initial_conditions,dense_output = True)\n",
    "    \n",
    "    sol = solution.sol(t_span)\n",
    "    \n",
    "    \n",
    "    plt.plot(t_span,sol[0])\n",
    "    plt.plot(data_t,data_CA,'o')\n",
    "    \n",
    "    return solution.t\n",
    "\n",
    "\n",
    "\n",
    "print(batch(6.67*10**-3,4.54*10**-5))"
   ]
  },
  {
   "cell_type": "code",
   "execution_count": null,
   "id": "5bf2e763",
   "metadata": {},
   "outputs": [],
   "source": [
    "def():\n",
    "    \n",
    "    \n",
    "\n",
    "    CA = [0.1823,0.1453,0.1216,0.1025,0.0795,0.0494]\n",
    "    rA = -k1*CA + k2*CB*CC\n"
   ]
  },
  {
   "cell_type": "markdown",
   "id": "0dccdaf4",
   "metadata": {
    "id": "jKw04F9SmYBL"
   },
   "source": [
    "# 4\n",
    "Hellin and Jungers (1957) present the data in the table on the reaction of sulphuric acid with diethylsulphate in aqueous solution at 22,9°C:\n",
    "\n",
    "$$ H_2SO_4 + (C_2H_5)_2SO_4 \\to 2C_2H_5SO_4H$$\n",
    "\n",
    "![Tut 10.png](data:image/png;base64,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)\n",
    "\n",
    "Initial concentrations of $H_2SO_4$ and $(C_2H_5)_2SO_4$ are each 5,5 mol/ℓ.  Find a rate equation for this reaction. [$k_1 = 6.7 \\times 10^{-4}$ l/mol.min, Kc = 5]"
   ]
  },
  {
   "cell_type": "markdown",
   "id": "24f7096f",
   "metadata": {
    "id": "RvGeUNN5mrrs"
   },
   "source": [
    "# 5\n",
    "\n",
    "Test 1 2016\n",
    "\n",
    "Question 2\t\t\t\t\t\t\t\t\t\t\t [15]\n",
    "\n",
    "A gas phase reversible reaction ($A + B \\leftrightharpoons 3C$) was studied in a constant pressure piston reactor at different temperatures and the following equilibrium results were obtained:\n",
    "\n",
    "Temperature (°C)|\t$p_A$ (kPa)|\t$p_B$ (kPa)|\t$p_C$ (kPa)\n",
    "---|---|---|---\n",
    "100|\t3.10|\t6.20|\t$3.91×10^2$\n",
    "200|\t$1.75×10^1$|\t$2.07×10^1$|\t$3.62×10^2$\n",
    "300|\t$4.11×10^1$|\t$4.45×10^1$|\t$3.15×10^2$\n",
    "\n",
    "a)\tIs the reaction exothermic or endothermic?\t(3)\n",
    "\n",
    "b)\tDetermine the enthalpy change of the reaction (ΔH) in kJ/mol\t(5)\n",
    "\n",
    "c)\tGiven the following information:\n",
    "\n",
    "$V_o$ (L) =\t1  \n",
    "\n",
    "P (bar)  =\t4\n",
    "\n",
    "$N_{Ao}$ = 0.4 $N_{to}$\n",
    "\n",
    "$N_{Bo}$ =\t0.55 $N_{to}$\n",
    "\n",
    "$N_{Co}$ =\t0.05 $N_{to}$\n",
    "\n",
    "$k_{o1}$ (forward reaction) =\t$6 × 10^7$ L/(mol.min)\n",
    "\n",
    "$E_1$ (forward reaction) =\t60 kJ/mol\n",
    "\n",
    "    i.\tDetermine the equilibrium conversion of A at a temperature of 236 °C, it can be assumed that the volume and pressure in the table applies to the system at this temperature.\t\n",
    "    ii.\tDetermine the time it takes to reach 99% of the equilibrium value of A\t(7)\n"
   ]
  },
  {
   "cell_type": "code",
   "execution_count": 15,
   "id": "a9824c0d",
   "metadata": {},
   "outputs": [
    {
     "name": "stdout",
     "output_type": "stream",
     "text": [
      "301662.28389565187 0.002272727272727273\n"
     ]
    }
   ],
   "source": [
    "Kc = (0.05*4)**3/(0.4*4*0.55*4) \n",
    "\n",
    "    \n",
    "def batch(t):    \n",
    "    \n",
    "    P = 4\n",
    "    \n",
    "    t_span = np.linspace(0,t,100)\n",
    "    \n",
    "    V = 1\n",
    "    T = 236 + 273.12\n",
    "    R = 8.314\n",
    "    \n",
    "    N = P*V/(R*T)\n",
    "    \n",
    "    initial_conditions = [0.4*N,0.55*N,0.05*N]\n",
    "    \n",
    "    k = 6*10**7\n",
    "    m = 1\n",
    "    n = 1\n",
    "    \n",
    "    def rates(t,y):\n",
    "        \n",
    "        NA,NB,NC = y[0],y[1],y[2]\n",
    "        CA,CB,CC = NA/V , NB/V , NC/V\n",
    "        \n",
    "        rA = -k*(CA**m)*(CB**n)\n",
    "        rB = rA\n",
    "        rC = -3*rA\n",
    "        \n",
    "        dNA = rA*V\n",
    "        dNB = rB*V\n",
    "        dNC = rC*V\n",
    "    \n",
    "        return dNA,dNB,dNC\n",
    "    \n",
    "\n",
    "    \n",
    "    solution = solve_ivp(rates,(0,t), initial_conditions,dense_output = True)\n",
    "    \n",
    "    sol = solution.sol(t_span)\n",
    "    Na,Nb,Nc = sol[0][-1],sol[1][-1],sol[2][-1]\n",
    "    Nt = Na+Nb+Nc\n",
    "    \n",
    "    Pa = Na/Nt*P\n",
    "    Pb = Nb/Nt*P\n",
    "    Pc = Nc/Nt*P\n",
    "    \n",
    "    \n",
    "    return (Pc**3)/(Pa*Pb) - Kc\n",
    "\n",
    "print(batch(100),Kc)\n"
   ]
  },
  {
   "cell_type": "markdown",
   "id": "a80acb68",
   "metadata": {
    "id": "vsEru2Fgmrr3"
   },
   "source": [
    "# 6\n",
    "\n",
    "For the liquid reaction in series:\n",
    "$$ A \\to B \\to C $$\n",
    "The following concentrations profiles were obtained in a batch reactor where pure A was initially loaded into  the reactor. Component A has a molar density of 5 mol/l.\n",
    "\n",
    "Time (min)|\tConcentration of A (mol/l)|\tConcentration of B (mol/l)\n",
    "---|---|---\n",
    "1|\t4.23|\t0.82\n",
    "2|\t3.46|\t1.39\n",
    "3|\t2.98|\t1.83\n",
    "4|\t2.49|\t2.07\n",
    "5|\t2.02|\t2.15\n",
    "7|\t1.44|\t2.27\n",
    "9|\t1.01|\t2.07\n",
    "11|\t0.68|\t1.89\n",
    "16|\t0.29|\t1.49\n",
    "32|\t0.02|\t0.69\n",
    "\n",
    "\n",
    "•\tWhat is the concentration of component A at time = 0?   \t\t\n",
    "•\tObtain the rate expressions for this reaction  [k1=0.18?/min, k2= 0.060?/min]\n",
    "\t\t\n",
    "\n",
    "\n"
   ]
  },
  {
   "cell_type": "markdown",
   "id": "64b62fd3",
   "metadata": {
    "id": "iw4qsEivmrr5"
   },
   "source": [
    "# 7\n",
    "\n",
    "For two irreversible reactions in parallel with the same reaction order but different activation energies:\n",
    "$$ A \\to B $$\n",
    "$$ A \\to C $$\n",
    "What will be the effect of temperature on the selectivity of C if the B reaction has a higher activation energy than the C reaction? "
   ]
  },
  {
   "cell_type": "markdown",
   "id": "eda66387",
   "metadata": {
    "id": "wlfn5_hBmrr8"
   },
   "source": [
    "# 8\n",
    "\n",
    "6) Pure gaseous A is prepared under refrigeration and is introduced into a thin-walled capillary which acts as a reaction vessel as shown in the figure. No appreciable reaction occurs during handling.  The reaction vessel is rapidly plunged into a bath of boiling water, reactant A decomposes to completion according to the reaction $A \\to R + S$, and the following data are obtained:\n",
    "\n",
    "\n",
    "Time, min|0.5|1\t|1.5\t|2\t|3\t|4\t|6\t|10\t|1000\n",
    ":---|---:|---:|---:|---:|---:|---:|---:|---:|---:\n",
    "Length of capillary  occupied by reaction mixture, cm\t|6.1\t|6.8\t|7.2\t|7.5\t|7.85\t|8.1\t|8.4\t|8.7|\t9.4\n",
    "\n",
    "![T18.png](data:image/png;base64,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)\n",
    "\n",
    "[$-r_A=12.95C_A^?$]"
   ]
  },
  {
   "cell_type": "markdown",
   "id": "6f0f5f5c",
   "metadata": {
    "id": "CVbWtC_8mrr-"
   },
   "source": [
    "# 9\n",
    "\n",
    "The following gas phase reactions occurs in a constant pressure batch reactor     (piston reactor).\n",
    "\n",
    "$$ A+2B\\to 30C\\: k_{1A} = 2M^{-2}s^{-1} $$\n",
    "$$ 10C+B\\to 2A\\: k_{2B} = 8M^{-2}s^{-1}\\: (kC_C^2C_B) $$\n",
    "\n",
    "The pressure is set at 2 bar and the temperature remains at 300K. An initial composition of 20% A and 80% B is fed. The first reaction is known to be elementary. Determine the maximum expansion (V/Vo) and the time at which it occurs. (@90 sec V/Vo=1.37)\n"
   ]
  },
  {
   "cell_type": "code",
   "execution_count": 28,
   "id": "7e621865",
   "metadata": {},
   "outputs": [
    {
     "name": "stdout",
     "output_type": "stream",
     "text": [
      "None\n"
     ]
    },
    {
     "data": {
      "image/png": "[encoded data removed]",
      "text/plain": [
       "<Figure size 640x480 with 1 Axes>"
      ]
     },
     "metadata": {},
     "output_type": "display_data"
    }
   ],
   "source": [
    "   \n",
    "    \n",
    "def batch(t):    \n",
    "    \n",
    "  \n",
    "    P = 2*100\n",
    "    R = 8.314\n",
    "    T = 300\n",
    "    \n",
    "    t_span = np.linspace(0,t,100)\n",
    "    \n",
    "    V0 = 1\n",
    "    \n",
    "    Ni = P*V0/(R*T)\n",
    "    \n",
    "    N0 = [0.2*Ni,0.8*Ni,0,V0]\n",
    "    \n",
    "    initial_conditions = N0\n",
    "    \n",
    "    k1 = 2\n",
    "    k2 = 8\n",
    "\n",
    "    \n",
    "    def rates(t,y):\n",
    "        \n",
    "        NA,NB,NC,V = y[0],y[1],y[2],y[3]\n",
    "        \n",
    "        N = NA + NB + NC\n",
    "       \n",
    "        CA,CB,CC = NA/V , NB/V , NC/V\n",
    "        \n",
    "        rA1 = -k1*(CA**1)*(CB**2)\n",
    "        rB1 = rA1*2\n",
    "        rC1 = -30*rA1\n",
    "        \n",
    "        rB2 = -k2*CC**2*CB \n",
    "        rC2 = 10*rB2\n",
    "        rA2 = -2*rB2\n",
    "        \n",
    "        \n",
    "        dNA = (rA1+rA2)*V\n",
    "        dNB = (rB1+rB2)*V\n",
    "        dNC = (rC1+rC2)*V\n",
    "        dV = (dNA+dNB+dNC)*R*T/P\n",
    "    \n",
    "    \n",
    "        return dNA,dNB,dNC,dV\n",
    "    \n",
    "    def events(t,y):\n",
    "        \n",
    "        return y\n",
    "    \n",
    "    solution = solve_ivp(rates,(0,t), initial_conditions,dense_output = True)\n",
    "    \n",
    "    sol = solution.sol(t_span)\n",
    "    \n",
    "    N = sol[0] + sol[1] + sol[2]\n",
    "   \n",
    "    \n",
    "    plt.plot(t_span,sol[3])\n",
    "   \n",
    "    \n",
    "    \n",
    "\n",
    "print(batch(100))\n",
    "\n"
   ]
  },
  {
   "cell_type": "markdown",
   "id": "eaf4755e",
   "metadata": {
    "id": "Jp_wpI1Vmrr9"
   },
   "source": [
    "# 10\n",
    "\n",
    "The irreversible gas phase reaction:\n",
    "$$ A\\to 4B$$\n",
    " \n",
    "was studied in the following batch reactor setup:\n",
    "\n",
    "![T19.png](data:image/png;base64,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)\n",
    " \n",
    "The reactor operates at constant volume of 25 liters if the pressure in the reactor is less than 2 bar. At 2 bar the pressure switch releases (see sketch), this activates the stopwatch and causes the reactor to operate as a constant pressure reactor (i.e. the piston will move and the reaction volume will change). An experiment was performed starting with 50% A and 50% inerts at 1.3 bar and 118°C at time=to. The following data was generated after the stopwatch got activated :\n",
    " \n",
    "\n",
    "Time - ts (min)|\tV/Vo\n",
    "---|---\n",
    "0|\t1.00\n",
    "1|\t1.10\n",
    "3|\t1.22\n",
    "5|\t1.29\n",
    "7|\t1.34\n",
    "9|\t1.37\n",
    "11|\t1.40\n",
    "13|\t1.42\n",
    "15|\t1.44\n",
    "17|\t1.45\n",
    "\n",
    "a)\tWhat is the composition of the gas mixture when the stopwatch gets activated (at ts=0) [21% 47% 32%]\n",
    "\n",
    "b)\tHow long does it take before the stopwatch gets activated (time from to to ts=0) [1.75 min]\n",
    "\n"
   ]
  },
  {
   "cell_type": "markdown",
   "id": "dc04a139",
   "metadata": {},
   "source": []
  }
 ],
 "metadata": {
  "kernelspec": {
   "display_name": "Python 3 (ipykernel)",
   "language": "python",
   "name": "python3"
  },
  "language_info": {
   "codemirror_mode": {
    "name": "ipython",
    "version": 3
   },
   "file_extension": ".py",
   "mimetype": "text/x-python",
   "name": "python",
   "nbconvert_exporter": "python",
   "pygments_lexer": "ipython3",
   "version": "3.9.13"
  }
 },
 "nbformat": 4,
 "nbformat_minor": 5
}
