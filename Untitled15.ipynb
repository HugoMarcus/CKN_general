{
 "cells": [
  {
   "cell_type": "code",
   "execution_count": 7,
   "id": "91d4e996",
   "metadata": {},
   "outputs": [],
   "source": [
    "import numpy as np\n",
    "from scipy.optimize import fsolve\n",
    "from scipy.integrate import solve_ivp\n",
    "import matplotlib.pyplot as plt"
   ]
  },
  {
   "cell_type": "code",
   "execution_count": 8,
   "id": "3b37a77e",
   "metadata": {},
   "outputs": [
    {
     "name": "stdout",
     "output_type": "stream",
     "text": [
      "[16.2835249  0.375      2.175    ]\n"
     ]
    }
   ],
   "source": [
    "def CSTR(var):\n",
    "    \n",
    "    v,FA,FB = var[0],var[1],var[2]\n",
    "    \n",
    "    FA0 = 2.5*1\n",
    "    FB0 = 0.02*2.5\n",
    "    Q0 = 2.5 \n",
    "    k = 1\n",
    "    \n",
    "    F0 = FA0 + FB0\n",
    "    F = FA + FB\n",
    "    Q = Q0*F/F0 \n",
    "    \n",
    "    CA = FA/Q\n",
    "    CB = FB/Q\n",
    "    \n",
    "    rA = -k*CA*CB\n",
    "    rB = -rA\n",
    "    \n",
    "    (FA0 - FA)/FA0\n",
    "    \n",
    "    res1 = FA0 - FA + rA*v\n",
    "    res2 = FB0 - FB + rB*v\n",
    "    res3 = (FA0 - FA)/FA0 - 0.85\n",
    "    \n",
    "    return res1,res2,res3\n",
    "\n",
    "print(fsolve(CSTR,[2,2,2]))"
   ]
  },
  {
   "cell_type": "code",
   "execution_count": 48,
   "id": "ce856232",
   "metadata": {},
   "outputs": [
    {
     "name": "stdout",
     "output_type": "stream",
     "text": [
      "0.6000353927353536\n",
      "None\n"
     ]
    }
   ],
   "source": [
    "def PBR(w):\n",
    "    \n",
    "    FA0 = 40*0.33\n",
    "    FB0 = 40*0.67\n",
    "    y0 = [FA0,FB0,0]\n",
    "    F0 = FA0 + FB0 \n",
    "\n",
    "    k = 0.05\n",
    "    T = 170 + 273.15\n",
    "  \n",
    "    R = 8.314\n",
    "    P0 = 101325*5\n",
    "    \n",
    "    w_span = np.linspace(0,w,100)\n",
    "    \n",
    "  \n",
    "    def PBR(w,y):\n",
    "\n",
    "        FA,FB,FC = y  \n",
    "      \n",
    "        F = FA + FB + FC     \n",
    "       \n",
    "        PB = (FB/F)*P0/101325\n",
    "        \n",
    "        rA = -k*(PB)\n",
    "        rB = 2*rA   \n",
    "        rC = -rA\n",
    "        \n",
    "        return [rA, rB,rC]\n",
    "\n",
    "    solution = solve_ivp(PBR,(0,w),y0,dense_output = True)\n",
    "    sol = solution.sol(w_span)\n",
    "    \n",
    "    FA = sol[0]\n",
    "    x = (FA0 - FA)/FA0\n",
    "    \n",
    "    sol = solution.sol(w_span)\n",
    "    \n",
    "\n",
    "    \n",
    "    print(x[-1])\n",
    "   \n",
    "\n",
    "print(PBR(55.29))"
   ]
  },
  {
   "cell_type": "code",
   "execution_count": 202,
   "id": "0728a547",
   "metadata": {},
   "outputs": [
    {
     "name": "stdout",
     "output_type": "stream",
     "text": [
      "0.7500030091486383 506497.71435505786\n",
      "None\n"
     ]
    }
   ],
   "source": [
    "def PBR(w):\n",
    "    \n",
    "    FA0 = 40*0.33\n",
    "    FB0 = 40*0.67\n",
    "    y0 = [FA0,FB0,0,5*101325]\n",
    "    Ft0 = FA0+FB0\n",
    "\n",
    "    k = 0.05\n",
    "    T = 170 + 273.15\n",
    "  \n",
    "    R = 8.314\n",
    "    P0 = 101325*5\n",
    "    \n",
    "    w_span = np.linspace(0,w,1000)\n",
    "    \n",
    "    D_r = 0.5\n",
    "    A = np.pi*(D_r/2)**2\n",
    "    mm = 30/1000\n",
    "    G = mm*Ft0/60/A\n",
    "    dp = 0.001\n",
    "    v = 2*10**-5\n",
    "    e = 0.4\n",
    "    pb = 1000\n",
    "    d0 = mm*P0/(R*T)\n",
    "        \n",
    "    \n",
    "    def PBR(w,y):\n",
    "\n",
    "        FA,FB,FC,P = y  \n",
    "        \n",
    "       \n",
    "        Ft = FA + FB + FC\n",
    "        \n",
    "     #   print(-G/(d0*dp)*((1-e)/e**3)*(150*v*(1-e)/dp + 1.75*G)/A/pb)\n",
    "    \n",
    "       \n",
    "        \n",
    "        PB = (FB/Ft)*P/(101325)\n",
    "                  \n",
    "        rA = -k*(PB)\n",
    "        rB = 2*rA   \n",
    "        rC = -rA\n",
    "        dP = (-G/(d0*dp)*((1-e)/e**3)*(150*v*(1-e)/dp + 1.75*G)*(P0*Ft)/(P*Ft0)/A/pb)\n",
    "        \n",
    "        \n",
    "        \n",
    "     #   dP = -K*(P0*Ft)/(P*Ft0)\n",
    "        \n",
    "        \n",
    "        return [rA, rB,rC,dP]\n",
    "\n",
    "    solution = solve_ivp(PBR,(0,w),y0,dense_output = True)\n",
    "    sol = solution.sol(w_span)\n",
    "    \n",
    "    FA = sol[0]\n",
    "    x = (FA0 - FA)/FA0\n",
    "    \n",
    "    sol = solution.sol(w_span)\n",
    "    \n",
    "\n",
    "    \n",
    "    print(x[-1],sol[3][-1])\n",
    "   \n",
    "\n",
    "print(PBR(75.059))"
   ]
  },
  {
   "cell_type": "code",
   "execution_count": 125,
   "id": "412ff6c1",
   "metadata": {},
   "outputs": [
    {
     "data": {
      "text/plain": [
       "75.05999999999999"
      ]
     },
     "execution_count": 125,
     "metadata": {},
     "output_type": "execute_result"
    }
   ],
   "source": [
    "2.502*30"
   ]
  },
  {
   "cell_type": "code",
   "execution_count": 90,
   "id": "5d504925",
   "metadata": {},
   "outputs": [
    {
     "data": {
      "text/plain": [
       "4.998305504000243"
      ]
     },
     "execution_count": 90,
     "metadata": {},
     "output_type": "execute_result"
    }
   ],
   "source": [
    "506453.30519282457/101325"
   ]
  },
  {
   "cell_type": "code",
   "execution_count": 206,
   "id": "a984d2fc",
   "metadata": {},
   "outputs": [],
   "source": [
    " \n",
    "FA0 = 40*0.33\n",
    "FB0 = 40*0.67/30\n",
    "y0 = [FA0,FB0,0,5*101325]\n",
    "Ft0 = FA0+FB0\n",
    "\n",
    "k = 0.05\n",
    "T = 170 + 273.15\n",
    "  \n",
    "R = 8.314\n",
    "P0 = 101325*5\n",
    "    \n",
    "D_r = 0.02\n",
    "A = np.pi*(D_r/2)**2\n",
    "mm = 30/1000\n",
    "G = mm*Ft0/60/A\n",
    "dp = 0.001\n",
    "v = 2*10**-5\n",
    "e = 0.4\n",
    "pb = 1000\n",
    "d0 = mm*P0/(R*T)\n",
    "        "
   ]
  },
  {
   "cell_type": "code",
   "execution_count": 207,
   "id": "94b0e3f8",
   "metadata": {},
   "outputs": [
    {
     "data": {
      "text/plain": [
       "0.38227234795310633"
      ]
     },
     "execution_count": 207,
     "metadata": {},
     "output_type": "execute_result"
    }
   ],
   "source": [
    "75.059/pb/A"
   ]
  },
  {
   "cell_type": "code",
   "execution_count": 159,
   "id": "58751ee9",
   "metadata": {},
   "outputs": [
    {
     "data": {
      "text/plain": [
       "0.4409197703705711"
      ]
     },
     "execution_count": 159,
     "metadata": {},
     "output_type": "execute_result"
    }
   ],
   "source": []
  },
  {
   "cell_type": "code",
   "execution_count": 172,
   "id": "930db51b",
   "metadata": {},
   "outputs": [
    {
     "data": {
      "text/plain": [
       "2.2279570067386274"
      ]
     },
     "execution_count": 172,
     "metadata": {},
     "output_type": "execute_result"
    }
   ],
   "source": [
    "225747.7437077914/101325"
   ]
  },
  {
   "cell_type": "code",
   "execution_count": null,
   "id": "ad92c8cb",
   "metadata": {},
   "outputs": [],
   "source": []
  }
 ],
 "metadata": {
  "kernelspec": {
   "display_name": "Python 3 (ipykernel)",
   "language": "python",
   "name": "python3"
  },
  "language_info": {
   "codemirror_mode": {
    "name": "ipython",
    "version": 3
   },
   "file_extension": ".py",
   "mimetype": "text/x-python",
   "name": "python",
   "nbconvert_exporter": "python",
   "pygments_lexer": "ipython3",
   "version": "3.9.13"
  }
 },
 "nbformat": 4,
 "nbformat_minor": 5
}
