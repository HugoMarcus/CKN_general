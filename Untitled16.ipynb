{
 "cells": [
  {
   "cell_type": "code",
   "execution_count": 1,
   "id": "0a591a75",
   "metadata": {},
   "outputs": [],
   "source": [
    "import numpy as np\n",
    "from scipy.optimize import fsolve\n",
    "from scipy.integrate import solve_ivp\n",
    "import matplotlib.pyplot as plt"
   ]
  },
  {
   "cell_type": "code",
   "execution_count": 2,
   "id": "7e0bdfa8",
   "metadata": {},
   "outputs": [],
   "source": [
    "def PBR(v):\n",
    "    \n",
    "    FA0 = 2.5*1\n",
    "    FB0 = 0.02*2.5\n",
    "    \n",
    "    Q0 = 2.5 \n",
    "     \n",
    "        \n",
    "    y0 = [FA0,FB0]\n",
    "    \n",
    "    F0 = FA0 + FB0\n",
    "\n",
    "    k = 1\n",
    "    \n",
    "    \n",
    "    v_span = np.linspace(0,v,100)\n",
    "    \n",
    "\n",
    "    \n",
    "    def PBR(W,y):\n",
    "\n",
    "        FA,FB,C = y       \n",
    "        \n",
    "         \n",
    "        \n",
    "        F = FA + FB\n",
    "        \n",
    "        Q = Q0*F/F0\n",
    "        \n",
    "        CA,CB,CC = FA/Q , FB/Q, FC/Q\n",
    "        \n",
    "        PB = 5*Pt*4-44\n",
    "        \n",
    "        rA = -k*PB\n",
    "        rB = -rA     \n",
    "        \n",
    "        \n",
    "        \n",
    "        return [rA, rB]\n",
    "\n",
    "    solution = solve_ivp(PBR,(0,v),y0,dense_output = True)\n",
    "    sol = solution.sol(v_span)\n",
    "    \n",
    "    FA = sol[0]\n",
    "    x = (FA0 - FA)/FA0\n",
    "    \n",
    "    print(x[-1])\n",
    "\n",
    "  "
   ]
  },
  {
   "cell_type": "code",
   "execution_count": null,
   "id": "96944c68",
   "metadata": {},
   "outputs": [],
   "source": []
  }
 ],
 "metadata": {
  "kernelspec": {
   "display_name": "Python 3 (ipykernel)",
   "language": "python",
   "name": "python3"
  },
  "language_info": {
   "codemirror_mode": {
    "name": "ipython",
    "version": 3
   },
   "file_extension": ".py",
   "mimetype": "text/x-python",
   "name": "python",
   "nbconvert_exporter": "python",
   "pygments_lexer": "ipython3",
   "version": "3.9.13"
  }
 },
 "nbformat": 4,
 "nbformat_minor": 5
}
