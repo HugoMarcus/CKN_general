{
 "cells": [
  {
   "cell_type": "code",
   "execution_count": 61,
   "id": "e44cf394",
   "metadata": {},
   "outputs": [],
   "source": [
    "import numpy as np\n",
    "from scipy.optimize import fsolve\n",
    "from scipy.integrate import solve_ivp\n",
    "import matplotlib.pyplot as plt\n",
    "ln = np.log"
   ]
  },
  {
   "cell_type": "code",
   "execution_count": 142,
   "id": "a19b4778",
   "metadata": {},
   "outputs": [
    {
     "name": "stdout",
     "output_type": "stream",
     "text": [
      "0.9500032234809256\n"
     ]
    }
   ],
   "source": [
    "def PBR_2(V,H):\n",
    "    \n",
    "    \n",
    "    R = 8.314\n",
    "#    P0  = 5*101.325\n",
    "    \n",
    "    \n",
    " \n",
    "\n",
    "    T0 = 325\n",
    "    E = 35000\n",
    "\n",
    "   \n",
    "    \n",
    "    FA0 , FB0,FC0,FI0= 10,0,0,20\n",
    "    initial_conditions = [FA0,FB0,FC0,T0] \n",
    "    \n",
    "    \n",
    "    w_span = np.linspace(0,V,100)\n",
    "  \n",
    "    CpA,CpB,CpC,CpI = 100,45,55,127.5\n",
    "    ko = 8312\n",
    "   \n",
    "\n",
    "    def steady_PFR(V, y):\n",
    "\n",
    "        FA, FB,FC,T = y\n",
    "        \n",
    "        F = FA + FB + FC\n",
    "    \n",
    "        \n",
    "        Q = 5\n",
    "           \n",
    "        k = ko*np.exp(-E/(R*T))\n",
    "        \n",
    "\n",
    "        \n",
    "        rA = -k * (FA/Q)\n",
    "        rB = rA\n",
    "        rC = -rA\n",
    "        \n",
    "\n",
    "        dFAdV = rA  \n",
    "        dFBdV = rB\n",
    "        dFCdV= rC\n",
    "   #     dPdV = -K*((P0*F)/(P*F0)*T/T0)\n",
    "       \n",
    "      \n",
    "        dTdV = (rA)*H/((FA*CpA+FB*CpB+FC*CpC+FI0*CpI))\n",
    "   \n",
    "        \n",
    "   #     if V < 0.0008: \n",
    "                            #Ceck inititial rates\n",
    "  #          print(dTdV)\n",
    "  #          print(FA*CpA+FB*CpB+FC*CpC)\n",
    "\n",
    "    \n",
    "        \n",
    "\n",
    "\n",
    "        return [dFAdV, dFBdV,dFCdV,dTdV]\n",
    "\n",
    "    solution = solve_ivp(steady_PFR,(0,V),initial_conditions,dense_output = True)\n",
    "    sol = solution.sol(w_span)\n",
    "    FA = sol[0][-1]\n",
    "    FB = sol[1]\n",
    "    \n",
    "    \n",
    "    \n",
    "  \n",
    "\n",
    "    return (FA0 - FA)/FA0\n",
    "\n",
    "print(PBR_2(123.5,-32113))\n"
   ]
  },
  {
   "cell_type": "code",
   "execution_count": 143,
   "id": "b1d169ce",
   "metadata": {},
   "outputs": [
    {
     "name": "stdout",
     "output_type": "stream",
     "text": [
      "1\n"
     ]
    },
    {
     "data": {
      "image/png": "[encoded data removed]",
      "text/plain": [
       "<Figure size 640x480 with 1 Axes>"
      ]
     },
     "metadata": {},
     "output_type": "display_data"
    }
   ],
   "source": [
    "def A_CSTR(V):\n",
    "    \n",
    "    \n",
    "    T0 = 325\n",
    "    E = 35000\n",
    "\n",
    "    FA0 , FB0,FC0,FI0= 10,0,0,20\n",
    "  \n",
    "    CpA,CpB,CpC,CpI = 100,45,55,127.5\n",
    "    k0 = 8312\n",
    "    Q0 = 5\n",
    "    \n",
    "    \n",
    "  \n",
    "    H =  -32113\n",
    "   \n",
    "   \n",
    "   \n",
    "    R = 8.314\n",
    "    a = 1\n",
    "    n = a\n",
    "    \n",
    "    x = np.linspace(0.0001,0.999,100)   \n",
    "\n",
    "   \n",
    "    F0t = FA0 + FB0\n",
    "    FA = FA0*(1-x)\n",
    "    ξ = (FA0 - FA)/a\n",
    "    Q = Q0 \n",
    "    CA = FA/Q\n",
    "    T0 = 340\n",
    "    \n",
    "    T_eb = -ξ*H/(FA0*CpA + FB0*CpB + FC0*CpC + FI0*CpI) + T0\n",
    "    \n",
    " \n",
    " \n",
    "    \n",
    "    A = ln((FA0 - FA)/(CA**n*V*k0))\n",
    "    B = -R/E\n",
    "    \n",
    "    \n",
    "    \n",
    "    T_mb = 1/(A*B)\n",
    "    \n",
    "    plt.plot(T_eb,x,label = 'T_eb')\n",
    "    plt.plot(T_mb,x,label = 'T_mb')\n",
    "    plt.legend()\n",
    "    plt.grid()\n",
    "    \n",
    "    \n",
    "    \n",
    "\n",
    "    \n",
    "\n",
    "    return 1\n",
    "   \n",
    " \n",
    "print(A_CSTR(267))"
   ]
  },
  {
   "cell_type": "code",
   "execution_count": 147,
   "id": "9ee9e864",
   "metadata": {},
   "outputs": [
    {
     "name": "stdout",
     "output_type": "stream",
     "text": [
      "[426.35633803 221.90370338]\n"
     ]
    }
   ],
   "source": [
    "    \n",
    "def solve(var):\n",
    "    \n",
    "    T,V = var[0],var[1]\n",
    "    \n",
    "    x = 0.95\n",
    "    \n",
    "    T0 = 325\n",
    "    E = 35000\n",
    "\n",
    "    FA0 , FB0,FC0,FI0= 10,0,0,20\n",
    "  \n",
    "    CpA,CpB,CpC,CpI = 100,45,55,127.5\n",
    "    k0 = 8312\n",
    "    Q0 = 5\n",
    "          \n",
    "    H =  -32270\n",
    "         \n",
    "    R = 8.314\n",
    "    a = 1\n",
    "    n = a    \n",
    "   \n",
    "    F0t = FA0 + FB0\n",
    "    FA = FA0*(1-x)\n",
    "    ξ = (FA0 - FA)/a\n",
    "    Q = Q0 \n",
    "    CA = FA/Q\n",
    "    T0 = 340\n",
    "    \n",
    "    T_eb = -ξ*H/(FA0*CpA + FB0*CpB + FC0*CpC + FI0*CpI ) + T0 \n",
    "     \n",
    "    A = ln((FA0 - FA)/(CA**n*V*k0))\n",
    "    B = -R/E  \n",
    "    \n",
    "    T_mb = 1/(A*B)\n",
    " \n",
    "    e1 = T_eb - T\n",
    "    e2 = T_mb - T\n",
    "    \n",
    "    return e1,e2\n",
    "    \n",
    "T_f = fsolve(solve,[200,290])\n",
    "\n",
    "print(T_f)\n",
    "    \n",
    "#print(solve(420,267))\n"
   ]
  },
  {
   "cell_type": "code",
   "execution_count": null,
   "id": "22466908",
   "metadata": {},
   "outputs": [],
   "source": [
    "FI0*CpI"
   ]
  },
  {
   "cell_type": "code",
   "execution_count": null,
   "id": "279d1017",
   "metadata": {},
   "outputs": [],
   "source": []
  }
 ],
 "metadata": {
  "kernelspec": {
   "display_name": "Python 3 (ipykernel)",
   "language": "python",
   "name": "python3"
  },
  "language_info": {
   "codemirror_mode": {
    "name": "ipython",
    "version": 3
   },
   "file_extension": ".py",
   "mimetype": "text/x-python",
   "name": "python",
   "nbconvert_exporter": "python",
   "pygments_lexer": "ipython3",
   "version": "3.9.13"
  }
 },
 "nbformat": 4,
 "nbformat_minor": 5
}
