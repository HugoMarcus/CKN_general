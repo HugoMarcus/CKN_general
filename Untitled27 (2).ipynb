{
 "cells": [
  {
   "cell_type": "code",
   "execution_count": 1,
   "id": "cdcc50e6",
   "metadata": {},
   "outputs": [],
   "source": [
    "import numpy as np\n",
    "from scipy.optimize import fsolve\n",
    "from scipy.integrate import solve_ivp\n",
    "import matplotlib.pyplot as plt\n",
    "ln = np.log\n",
    "pi = np.pi"
   ]
  },
  {
   "cell_type": "code",
   "execution_count": 9,
   "id": "6ec8bc57",
   "metadata": {},
   "outputs": [],
   "source": [
    "\n",
    "def constants():\n",
    "\n",
    "    r = 0.005/2\n",
    "    e = 0.428\n",
    "    Vt = (0.35/2)**2*pi*10\n",
    "    Vc = Vt*(1-e)\n",
    "    nB = Vc/(pi*r**3*4/3)\n",
    "    Ac = nB*4*pi*r**2\n",
    "    av1 = Ac/Vt\n",
    "    print(nB)\n",
    "\n",
    "    av = 6*(1-e)/(2*r)\n",
    "\n",
    " \n",
    "    print(av1,av2)"
   ]
  },
  {
   "cell_type": "code",
   "execution_count": 7,
   "id": "8dbc095e",
   "metadata": {},
   "outputs": [
    {
     "ename": "NameError",
     "evalue": "name 'Vt' is not defined",
     "output_type": "error",
     "traceback": [
      "\u001b[1;31m---------------------------------------------------------------------------\u001b[0m",
      "\u001b[1;31mNameError\u001b[0m                                 Traceback (most recent call last)",
      "\u001b[1;32m~\\AppData\\Local\\Temp\\ipykernel_34448\\3023888031.py\u001b[0m in \u001b[0;36m<module>\u001b[1;34m\u001b[0m\n\u001b[0;32m     35\u001b[0m     \u001b[1;32mreturn\u001b[0m \u001b[1;33m(\u001b[0m\u001b[0mFA0\u001b[0m\u001b[1;33m-\u001b[0m\u001b[0mFA\u001b[0m\u001b[1;33m)\u001b[0m\u001b[1;33m/\u001b[0m\u001b[0mFA0\u001b[0m\u001b[1;33m\u001b[0m\u001b[1;33m\u001b[0m\u001b[0m\n\u001b[0;32m     36\u001b[0m \u001b[1;33m\u001b[0m\u001b[0m\n\u001b[1;32m---> 37\u001b[1;33m \u001b[0mprint\u001b[0m\u001b[1;33m(\u001b[0m\u001b[0mPBR\u001b[0m\u001b[1;33m(\u001b[0m\u001b[1;36m1.03\u001b[0m\u001b[1;33m)\u001b[0m\u001b[1;33m)\u001b[0m\u001b[1;33m\u001b[0m\u001b[1;33m\u001b[0m\u001b[0m\n\u001b[0m\u001b[0;32m     38\u001b[0m \u001b[1;33m\u001b[0m\u001b[0m\n\u001b[0;32m     39\u001b[0m \u001b[1;33m\u001b[0m\u001b[0m\n",
      "\u001b[1;32m~\\AppData\\Local\\Temp\\ipykernel_34448\\3023888031.py\u001b[0m in \u001b[0;36mPBR\u001b[1;34m(ki)\u001b[0m\n\u001b[0;32m      7\u001b[0m     \u001b[0mQ\u001b[0m \u001b[1;33m=\u001b[0m \u001b[1;36m0.4\u001b[0m\u001b[1;33m\u001b[0m\u001b[1;33m\u001b[0m\u001b[0m\n\u001b[0;32m      8\u001b[0m \u001b[1;33m\u001b[0m\u001b[0m\n\u001b[1;32m----> 9\u001b[1;33m     \u001b[0mw\u001b[0m \u001b[1;33m=\u001b[0m \u001b[0mVt\u001b[0m\u001b[1;33m\u001b[0m\u001b[1;33m\u001b[0m\u001b[0m\n\u001b[0m\u001b[0;32m     10\u001b[0m \u001b[1;33m\u001b[0m\u001b[0m\n\u001b[0;32m     11\u001b[0m     \u001b[0mw_span\u001b[0m \u001b[1;33m=\u001b[0m \u001b[0mnp\u001b[0m\u001b[1;33m.\u001b[0m\u001b[0mlinspace\u001b[0m\u001b[1;33m(\u001b[0m\u001b[1;36m0\u001b[0m\u001b[1;33m,\u001b[0m\u001b[0mw\u001b[0m\u001b[1;33m,\u001b[0m\u001b[1;36m1000\u001b[0m\u001b[1;33m)\u001b[0m\u001b[1;33m\u001b[0m\u001b[1;33m\u001b[0m\u001b[0m\n",
      "\u001b[1;31mNameError\u001b[0m: name 'Vt' is not defined"
     ]
    }
   ],
   "source": [
    "def PBR(ki):\n",
    "    \n",
    "    \n",
    "    FA0 , FB0 = 0.01,0 \n",
    "    initial_conditions = [FA0,FB0] \n",
    "    \n",
    "    Q = 0.4  \n",
    "    \n",
    "    w = Vt\n",
    "    \n",
    "    w_span = np.linspace(0,w,1000)\n",
    "\n",
    "    k = ki\n",
    "    def steady_PFR(t, y):\n",
    "\n",
    "        F_A, F_B = y\n",
    "        \n",
    "        \n",
    "        r_A = -k * (F_A/Q)\n",
    "        r_B = -r_A\n",
    "        \n",
    "\n",
    "        dFAdV = r_A  \n",
    "        dFBdV = r_B\n",
    "    \n",
    "        \n",
    "\n",
    "        return [dFAdV, dFBdV]\n",
    "\n",
    "    solution = solve_ivp(steady_PFR,(0,w),initial_conditions,dense_output = True)\n",
    "    sol = solution.sol(w_span)\n",
    "    FA = sol[0][-1]\n",
    "    FB = sol[1][-1]\n",
    "\n",
    "    return (FA0-FA)/FA0\n",
    "\n",
    "print(PBR(1.03))\n",
    "\n",
    "\n"
   ]
  },
  {
   "cell_type": "code",
   "execution_count": null,
   "id": "bcc3157d",
   "metadata": {},
   "outputs": [],
   "source": [
    "[0.08518863078536931][0]"
   ]
  },
  {
   "cell_type": "code",
   "execution_count": null,
   "id": "109a6a3c",
   "metadata": {},
   "outputs": [],
   "source": []
  },
  {
   "cell_type": "code",
   "execution_count": null,
   "id": "2fd7055f",
   "metadata": {
    "scrolled": true
   },
   "outputs": [],
   "source": [
    "def PBR(a):\n",
    "    \n",
    "    \n",
    "    FA0 , FB0 = 0.01,0 \n",
    "    initial_conditions = [FA0,FB0] \n",
    "    \n",
    "    Q = 0.4  \n",
    "    \n",
    "    w = Vt\n",
    "    \n",
    "    w_span = np.linspace(0,w,1000)\n",
    "    \n",
    "    ki = 1.03\n",
    "    \n",
    "    kc = 2.783*10**-3\n",
    "  \n",
    "    \n",
    "\n",
    "    def steady_PFR(t, y):\n",
    "\n",
    "        F_A, F_B = y\n",
    "        \n",
    "        CAb = F_A/Q\n",
    "        \n",
    "        \n",
    "        CAs = CAb*kc*av/(ki + kc*av)\n",
    "        \n",
    "        \n",
    "        r_A = -ki * (CAs)\n",
    "        r_B = -r_A\n",
    "        \n",
    "\n",
    "        dFAdV = r_A  \n",
    "        dFBdV = r_B\n",
    "    \n",
    "        \n",
    "\n",
    "        return [dFAdV, dFBdV]\n",
    "\n",
    "    solution = solve_ivp(steady_PFR,(0,w),initial_conditions,dense_output = True)\n",
    "    sol = solution.sol(w_span)\n",
    "    FA = sol[0][-1]\n",
    "    FB = sol[1][-1]\n",
    "\n",
    "    return (FA0-FA)/FA0\n",
    "\n",
    "print(PBR(2))\n"
   ]
  },
  {
   "cell_type": "code",
   "execution_count": 4,
   "id": "51cbebc3",
   "metadata": {},
   "outputs": [
    {
     "name": "stdout",
     "output_type": "stream",
     "text": [
      "[15.   0.5]\n"
     ]
    }
   ],
   "source": [
    "def sol(var):\n",
    "    Q , CAS  = var\n",
    "    \n",
    "    e1 = 3*CAS*5-Q*(1-0.5)\n",
    "    e2 = 7.5*(0.5-CAS)*5\n",
    "    return e1,e2\n",
    "\n",
    "print(fsolve(sol,[0.5,0.5]))"
   ]
  },
  {
   "cell_type": "code",
   "execution_count": 28,
   "id": "9ac36c19",
   "metadata": {},
   "outputs": [
    {
     "name": "stdout",
     "output_type": "stream",
     "text": [
      "[0.30901699 0.00286475]\n"
     ]
    }
   ],
   "source": [
    "def r2(var):\n",
    "    CAS,Q = var[0],var[1]\n",
    "    \n",
    "    V = 5/1000\n",
    "    kc_ac = 1.5\n",
    "    CA0 = 1\n",
    "    CAb = 0.5\n",
    "    km = 0.3\n",
    "    ρ_cat = 10\n",
    "    k = km*ρ_cat\n",
    "    \n",
    "    \n",
    "    e1 = k*CAS**2*V - Q*(CA0 - CAb)\n",
    "    e2 = kc_ac*(CAb - CAS)*V - Q*(CA0 - CAb)\n",
    "    \n",
    "    return e1,e2\n",
    "    \n",
    "    \n",
    "print(fsolve(r2,[0.2,4]))\n",
    "\n",
    "\n"
   ]
  },
  {
   "cell_type": "code",
   "execution_count": 32,
   "id": "00c9c3e4",
   "metadata": {},
   "outputs": [
    {
     "name": "stdout",
     "output_type": "stream",
     "text": [
      "[0.42705098 5.23606798]\n"
     ]
    }
   ],
   "source": [
    "def r3(var):\n",
    "    CAS,ρ_cat = var[0],var[1]\n",
    "    \n",
    "    V = 5/1000 \n",
    "    Q = fsolve(r2,[0.2,4])[1]\n",
    "    kc_ac = 1.5/(200*10)*(1000*ρ_cat)\n",
    "    CA0 = 1\n",
    "    CAb = 0.5\n",
    "    km = 0.3\n",
    "    \n",
    "    k = km*ρ_cat\n",
    "    \n",
    "    \n",
    "    e1 = k*CAS**2*V - Q*(CA0 - CAb)\n",
    "    e2 = kc_ac*(CAb - CAS)*V - Q*(CA0 - CAb)\n",
    "    \n",
    "    return e1,e2\n",
    "    \n",
    "    \n",
    "print(fsolve(r3,[0.2,5]))"
   ]
  },
  {
   "cell_type": "code",
   "execution_count": 50,
   "id": "b5435d94",
   "metadata": {},
   "outputs": [
    {
     "name": "stdout",
     "output_type": "stream",
     "text": [
      "0.930254340130536\n"
     ]
    }
   ],
   "source": [
    "def PBR(kc):\n",
    "    \n",
    "    \n",
    "    FA0 , FB0 = 0.01,0 \n",
    "    initial_conditions = [FA0,FB0] \n",
    "    \n",
    "    Q = 50/1000/3600\n",
    "    r = 0.0018/2\n",
    "    e = 0.4\n",
    "    ρ_C = 1.2*1000\n",
    "    am = 6*(1-e)/(2*r)/ρ_C\n",
    "    w = 0.15\n",
    "    kc = 6*10\n",
    "    \n",
    "    w_span = np.linspace(0,w,1000)\n",
    "    \n",
    "    ki = 3*10**-4\n",
    "    \n",
    "\n",
    "  \n",
    "    \n",
    "\n",
    "    def steady_PFR(t, y):\n",
    "\n",
    "        F_A, F_B = y\n",
    "        \n",
    "        CAb = F_A/Q\n",
    "        \n",
    "        \n",
    "        CAs = CAb*kc*am/(ki + kc*am)\n",
    "        \n",
    "        \n",
    "        r_A = -ki * (CAs)\n",
    "        r_B = -r_A\n",
    "        \n",
    "\n",
    "        dFAdV = r_A  \n",
    "        dFBdV = r_B\n",
    "    \n",
    "        \n",
    "\n",
    "        return [dFAdV, dFBdV]\n",
    "\n",
    "    solution = solve_ivp(steady_PFR,(0,w),initial_conditions,dense_output = True)\n",
    "    sol = solution.sol(w_span)\n",
    "    FA = sol[0][-1]\n",
    "    FB = sol[1][-1]\n",
    "\n",
    "    return (FA0-FA)/FA0\n",
    "\n",
    "print(PBR(0.000833))\n"
   ]
  },
  {
   "cell_type": "code",
   "execution_count": null,
   "id": "eab1ef2d",
   "metadata": {},
   "outputs": [],
   "source": []
  },
  {
   "cell_type": "code",
   "execution_count": null,
   "id": "38b98967",
   "metadata": {},
   "outputs": [],
   "source": []
  },
  {
   "cell_type": "code",
   "execution_count": null,
   "id": "ea347743",
   "metadata": {},
   "outputs": [],
   "source": []
  },
  {
   "cell_type": "code",
   "execution_count": 37,
   "id": "2bd97504",
   "metadata": {},
   "outputs": [
    {
     "name": "stdout",
     "output_type": "stream",
     "text": [
      "0.960787441655578\n"
     ]
    }
   ],
   "source": [
    "def PBR(ki):\n",
    "    \n",
    "    \n",
    "    FA0 , FB0 = 5,0 \n",
    "    initial_conditions = [FA0,FB0] \n",
    "    \n",
    "    Q = 50/1000/60/60\n",
    "    \n",
    "    w = 0.15\n",
    "    \n",
    "    w_span = np.linspace(0,w,1000)\n",
    "\n",
    "    k = 3*10**-4\n",
    "    def steady_PFR(t, y):\n",
    "\n",
    "        F_A, F_B = y\n",
    "        \n",
    "        \n",
    "        r_A = -k * (F_A/Q)\n",
    "        r_B = -r_A\n",
    "        \n",
    "\n",
    "        dFAdV = r_A  \n",
    "        dFBdV = r_B\n",
    "    \n",
    "        \n",
    "\n",
    "        return [dFAdV, dFBdV]\n",
    "\n",
    "    solution = solve_ivp(steady_PFR,(0,w),initial_conditions,dense_output = True)\n",
    "    sol = solution.sol(w_span)\n",
    "    FA = sol[0][-1]\n",
    "    FB = sol[1][-1]\n",
    "\n",
    "    return (FA0-FA)/FA0\n",
    "\n",
    "print(PBR(1.03))\n",
    "\n",
    "\n"
   ]
  },
  {
   "cell_type": "code",
   "execution_count": null,
   "id": "70afc82c",
   "metadata": {},
   "outputs": [],
   "source": []
  }
 ],
 "metadata": {
  "kernelspec": {
   "display_name": "Python 3 (ipykernel)",
   "language": "python",
   "name": "python3"
  },
  "language_info": {
   "codemirror_mode": {
    "name": "ipython",
    "version": 3
   },
   "file_extension": ".py",
   "mimetype": "text/x-python",
   "name": "python",
   "nbconvert_exporter": "python",
   "pygments_lexer": "ipython3",
   "version": "3.9.13"
  }
 },
 "nbformat": 4,
 "nbformat_minor": 5
}
